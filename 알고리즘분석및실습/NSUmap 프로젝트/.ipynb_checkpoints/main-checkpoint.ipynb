{
 "cells": [
  {
   "cell_type": "code",
   "execution_count": 3,
   "id": "b3c3d6f8-4de5-4c08-8414-4a27dab5e3fc",
   "metadata": {},
   "outputs": [
    {
     "ename": "ModuleNotFoundError",
     "evalue": "No module named 'folium'",
     "output_type": "error",
     "traceback": [
      "\u001b[0;31m---------------------------------------------------------------------------\u001b[0m",
      "\u001b[0;31mModuleNotFoundError\u001b[0m                       Traceback (most recent call last)",
      "Cell \u001b[0;32mIn[3], line 1\u001b[0m\n\u001b[0;32m----> 1\u001b[0m \u001b[38;5;28;01mimport\u001b[39;00m \u001b[38;5;21;01mfolium\u001b[39;00m   \u001b[38;5;66;03m# folium을 호출\u001b[39;00m\n\u001b[1;32m      2\u001b[0m center \u001b[38;5;241m=\u001b[39m [\u001b[38;5;241m36.908\u001b[39m, \u001b[38;5;241m127.143619452225\u001b[39m] \u001b[38;5;66;03m# 남서울대학교의 [위도, 경도] 불러오는 함수\u001b[39;00m\n\u001b[1;32m      3\u001b[0m m\u001b[38;5;241m=\u001b[39mfolium\u001b[38;5;241m.\u001b[39mMap(location\u001b[38;5;241m=\u001b[39mcenter, zoom_start\u001b[38;5;241m=\u001b[39m\u001b[38;5;241m15.5\u001b[39m) \u001b[38;5;66;03m# m 변수 지정, 남서울대학교, 화면 해상도 10\u001b[39;00m\n",
      "\u001b[0;31mModuleNotFoundError\u001b[0m: No module named 'folium'"
     ]
    }
   ],
   "source": [
    "import folium   # folium을 호출\n",
    "center = [36.908, 127.143619452225] # 남서울대학교의 [위도, 경도] 불러오는 함수\n",
    "m=folium.Map(location=center, zoom_start=15.5) # m 변수 지정, 남서울대학교, 화면 해상도 10\n",
    "m"
   ]
  },
  {
   "cell_type": "code",
   "execution_count": null,
   "id": "b7acdbba-7e52-46b5-acab-126f1cd720cc",
   "metadata": {},
   "outputs": [],
   "source": []
  },
  {
   "cell_type": "code",
   "execution_count": null,
   "id": "7571d133-1eb0-48ec-b9ec-d7c3e64820b6",
   "metadata": {},
   "outputs": [],
   "source": []
  },
  {
   "cell_type": "code",
   "execution_count": null,
   "id": "28cc59c1-a1d9-4b3f-92a9-65e0c8ac7dea",
   "metadata": {},
   "outputs": [],
   "source": []
  },
  {
   "cell_type": "code",
   "execution_count": null,
   "id": "f03d3cf0-e5bc-40a1-b8f5-abc5e83a2de4",
   "metadata": {},
   "outputs": [],
   "source": []
  },
  {
   "cell_type": "code",
   "execution_count": null,
   "id": "d6a3999c-7805-45dc-8fd9-49881405d52c",
   "metadata": {},
   "outputs": [],
   "source": []
  }
 ],
 "metadata": {
  "kernelspec": {
   "display_name": "Python 3 (ipykernel)",
   "language": "python",
   "name": "python3"
  },
  "language_info": {
   "codemirror_mode": {
    "name": "ipython",
    "version": 3
   },
   "file_extension": ".py",
   "mimetype": "text/x-python",
   "name": "python",
   "nbconvert_exporter": "python",
   "pygments_lexer": "ipython3",
   "version": "3.9.6"
  }
 },
 "nbformat": 4,
 "nbformat_minor": 5
}
